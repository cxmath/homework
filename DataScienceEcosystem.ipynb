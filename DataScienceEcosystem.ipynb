{
 "cells": [
  {
   "cell_type": "markdown",
   "id": "00799293-0977-4df3-8a00-a5e28bcb2f37",
   "metadata": {},
   "source": [
    "# Data Science Tools and Ecosystem"
   ]
  },
  {
   "cell_type": "markdown",
   "id": "887bfff7-5253-4745-91db-b824961224cd",
   "metadata": {},
   "source": [
    "In this notebook, Data Science Tools and Ecosystem are summarized."
   ]
  },
  {
   "cell_type": "markdown",
   "id": "1d31ccf8-4551-4c05-9c97-ac60db9d65a6",
   "metadata": {},
   "source": [
    "Objectives:\n",
    "- List popular languages for Data Science\n",
    "- List commonly used libraries used in Data Science\n",
    "- List Data Science tools\n",
    "- Examples of arithmetic expressions"
   ]
  },
  {
   "cell_type": "markdown",
   "id": "49195993-d763-49bf-b5d0-bad9058d42f4",
   "metadata": {},
   "source": [
    "Some of the popular languages that Data Scientists use are:\n",
    "1. Python\n",
    "2. R\n",
    "3. Java\n"
   ]
  },
  {
   "cell_type": "markdown",
   "id": "d692e8e0-9f79-402b-866e-0d9b04e8a304",
   "metadata": {},
   "source": [
    "Some of the commonly used libraries used by Data Scientists include:\n",
    "1. NumPy\n",
    "2. Pandas\n",
    "3. Matplotlib"
   ]
  },
  {
   "cell_type": "markdown",
   "id": "1427963a-c1c3-4849-8055-0bb4f549c4eb",
   "metadata": {},
   "source": [
    "| Data Science Tools |\n",
    "----------------------\n",
    "| Python|\n",
    "| R |\n",
    "| SQR|\n",
    "| Github |"
   ]
  },
  {
   "cell_type": "markdown",
   "id": "90a36fb8-3666-41a2-9b8d-de54be02aef4",
   "metadata": {},
   "source": [
    "### Below are a few examples of evaluating arithmetic expressions in Python."
   ]
  },
  {
   "cell_type": "code",
   "execution_count": 2,
   "id": "39a13d55-015d-45c3-bf6a-9167007f238f",
   "metadata": {},
   "outputs": [
    {
     "data": {
      "text/plain": [
       "25"
      ]
     },
     "execution_count": 2,
     "metadata": {},
     "output_type": "execute_result"
    }
   ],
   "source": [
    "5**2"
   ]
  },
  {
   "cell_type": "code",
   "execution_count": 3,
   "id": "a39f3944-5062-4aeb-9981-26de71c00d39",
   "metadata": {},
   "outputs": [
    {
     "data": {
      "text/plain": [
       "0.3333333333333333"
      ]
     },
     "execution_count": 3,
     "metadata": {},
     "output_type": "execute_result"
    }
   ],
   "source": [
    "3/9"
   ]
  },
  {
   "cell_type": "code",
   "execution_count": 4,
   "id": "3cff18b6-928d-4ccd-9fec-ed049e212282",
   "metadata": {},
   "outputs": [],
   "source": [
    "import numpy as np"
   ]
  },
  {
   "cell_type": "code",
   "execution_count": 6,
   "id": "cdfab0d9-be39-4514-9b04-19fc8fe40838",
   "metadata": {},
   "outputs": [],
   "source": [
    "a=[0,1,2]"
   ]
  },
  {
   "cell_type": "code",
   "execution_count": 7,
   "id": "a7c2a412-7028-4af9-a2cf-7647d9ded1fa",
   "metadata": {},
   "outputs": [
    {
     "data": {
      "text/plain": [
       "0"
      ]
     },
     "execution_count": 7,
     "metadata": {},
     "output_type": "execute_result"
    }
   ],
   "source": [
    "a[0]"
   ]
  },
  {
   "cell_type": "code",
   "execution_count": 8,
   "id": "9533dc58-bba7-4f3d-98db-adcb82c648cc",
   "metadata": {},
   "outputs": [
    {
     "name": "stdout",
     "output_type": "stream",
     "text": [
      "Hello World\n"
     ]
    }
   ],
   "source": [
    "print(\"Hello World\")"
   ]
  },
  {
   "cell_type": "code",
   "execution_count": 9,
   "id": "a8741250-21d9-464c-b1ee-902124a85aaa",
   "metadata": {},
   "outputs": [
    {
     "data": {
      "text/plain": [
       "17"
      ]
     },
     "execution_count": 9,
     "metadata": {},
     "output_type": "execute_result"
    }
   ],
   "source": [
    "# This a simple arithmetic expression to mutiply then add integers.\n",
    "(3*4)+5"
   ]
  },
  {
   "cell_type": "code",
   "execution_count": 10,
   "id": "968a6e58-afcd-4de5-9e1d-7d1a9435ae5e",
   "metadata": {},
   "outputs": [
    {
     "data": {
      "text/plain": [
       "3.3333333333333335"
      ]
     },
     "execution_count": 10,
     "metadata": {},
     "output_type": "execute_result"
    }
   ],
   "source": [
    "# This will convert 200 minutes to hours by diving by 60\n",
    "200/60"
   ]
  },
  {
   "cell_type": "markdown",
   "id": "1ee93bb8-e99f-48af-bde1-2ac1a801e512",
   "metadata": {},
   "source": [
    "## Author\n",
    "Chuan Xue"
   ]
  },
  {
   "cell_type": "code",
   "execution_count": null,
   "id": "68c053bd-42bf-451c-811f-61296864120e",
   "metadata": {},
   "outputs": [],
   "source": []
  },
  {
   "cell_type": "code",
   "execution_count": null,
   "id": "f835dabd-6a3f-477b-a6c8-285baa869fa4",
   "metadata": {},
   "outputs": [],
   "source": []
  }
 ],
 "metadata": {
  "kernelspec": {
   "display_name": "Python 3 (ipykernel)",
   "language": "python",
   "name": "python3"
  },
  "language_info": {
   "codemirror_mode": {
    "name": "ipython",
    "version": 3
   },
   "file_extension": ".py",
   "mimetype": "text/x-python",
   "name": "python",
   "nbconvert_exporter": "python",
   "pygments_lexer": "ipython3",
   "version": "3.12.4"
  }
 },
 "nbformat": 4,
 "nbformat_minor": 5
}
